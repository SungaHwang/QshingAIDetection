{
 "cells": [
  {
   "cell_type": "code",
   "execution_count": 18,
   "metadata": {},
   "outputs": [],
   "source": [
    "import pandas as pd\n",
    "import torch\n",
    "from torch.utils.data import DataLoader, Dataset\n",
    "import torch.nn as nn\n",
    "import torch.optim as optim\n",
    "from sklearn.model_selection import train_test_split\n",
    "from sklearn.preprocessing import StandardScaler"
   ]
  },
  {
   "cell_type": "code",
   "execution_count": null,
   "metadata": {},
   "outputs": [],
   "source": [
    "class FTTransformer(nn.Module):\n",
    "    def __init__(self, num_features, d_model, num_classes, num_layers, num_heads):\n",
    "        super(FTTransformer, self).__init__()\n",
    "        self.d_model = d_model\n",
    "        \n",
    "        self.feature_embedding = nn.Linear(num_features, d_model)\n",
    "        \n",
    "        self.positional_embedding = nn.Parameter(\n",
    "            torch.zeros(1, 1, d_model)\n",
    "        )\n",
    "        \n",
    "        self.transformer_encoder = nn.TransformerEncoder(\n",
    "            nn.TransformerEncoderLayer(d_model=d_model, nhead=num_heads),\n",
    "            num_layers=num_layers\n",
    "        )\n",
    "        \n",
    "        self.classifier = nn.Linear(d_model, num_classes)\n",
    "\n",
    "    def forward(self, x):\n",
    "        # x shape: [batch_size, num_features]\n",
    "    \n",
    "        # [batch_size, num_features, d_model]\n",
    "        x = self.feature_embedding(x).unsqueeze(1)\n",
    "        \n",
    "        # Positional embedding\n",
    "        if self.positional_embedding.size(1) != x.size(1) or self.positional_embedding.size(2) != x.size(2):\n",
    "            self.positional_embedding = nn.Parameter(\n",
    "                torch.zeros(1, x.size(1), x.size(2)).to(x.device)\n",
    "            )\n",
    "        \n",
    "        x = x + self.positional_embedding \n",
    "        x = x.permute(1, 0, 2)\n",
    "        x = self.transformer_encoder(x) \n",
    "        x = x.mean(dim=0) \n",
    "        logits = self.classifier(x) \n",
    "        return logits\n"
   ]
  },
  {
   "cell_type": "code",
   "execution_count": 90,
   "metadata": {},
   "outputs": [],
   "source": [
    "class TabularDataset(Dataset):\n",
    "    def __init__(self, features, targets):\n",
    "        self.features = features\n",
    "        self.targets = targets\n",
    "    \n",
    "    def __len__(self):\n",
    "        return len(self.features)\n",
    "    \n",
    "    def __getitem__(self, idx):\n",
    "        return self.features[idx], self.targets[idx]"
   ]
  },
  {
   "cell_type": "code",
   "execution_count": null,
   "metadata": {},
   "outputs": [],
   "source": [
    "df = pd.read_csv('preprocessed_final_url.csv')\n",
    "# 'url' 컬럼 제외, 'result' 컬럼을 타겟으로 사용\n",
    "y = df['result']\n",
    "X = df.drop(columns=['url', 'result'])\n",
    "\n",
    "# 정규화\n",
    "scaler = StandardScaler()\n",
    "num_cols = ['created_year','created_month','created_day','created_hour','url_length','hostname_length',\n",
    "            'special_char_sum','common_term_sum','digit_ratio','num_subdomains']\n",
    "X[num_cols] = scaler.fit_transform(X[num_cols])\n",
    "\n",
    "X = X.values\n",
    "y = y.values"
   ]
  },
  {
   "cell_type": "code",
   "execution_count": null,
   "metadata": {},
   "outputs": [],
   "source": [
    "X_train, X_val, y_train, y_val = train_test_split(X, y, test_size=0.2, random_state=42)\n",
    "\n",
    "X_train = torch.tensor(X_train, dtype=torch.float32)\n",
    "y_train = torch.tensor(y_train, dtype=torch.long)\n",
    "X_val = torch.tensor(X_val, dtype=torch.float32)\n",
    "y_val = torch.tensor(y_val, dtype=torch.long)\n",
    "\n",
    "train_dataset = TabularDataset(X_train, y_train)\n",
    "val_dataset = TabularDataset(X_val, y_val)\n",
    "train_loader = DataLoader(train_dataset, batch_size=32, shuffle=True)\n",
    "val_loader = DataLoader(val_dataset, batch_size=32, shuffle=False)"
   ]
  },
  {
   "cell_type": "code",
   "execution_count": null,
   "metadata": {},
   "outputs": [
    {
     "name": "stderr",
     "output_type": "stream",
     "text": [
      "c:\\anaconda\\envs\\qshing\\Lib\\site-packages\\torch\\nn\\modules\\transformer.py:379: UserWarning: enable_nested_tensor is True, but self.use_nested_tensor is False because encoder_layer.self_attn.batch_first was not True(use batch_first for better inference performance)\n",
      "  warnings.warn(\n"
     ]
    }
   ],
   "source": [
    "num_features = X_train.shape[1]\n",
    "num_classes = len(set(y))\n",
    "d_model = 128 \n",
    "num_layers = 4    \n",
    "num_heads = 8     \n",
    "\n",
    "model = FTTransformer(num_features=num_features, d_model=d_model, num_classes=num_classes, \n",
    "                      num_layers=num_layers, num_heads=num_heads)\n",
    "\n",
    "criterion = nn.CrossEntropyLoss()\n",
    "optimizer = optim.Adam(model.parameters(), lr=5e-4)"
   ]
  },
  {
   "cell_type": "code",
   "execution_count": null,
   "metadata": {},
   "outputs": [
    {
     "name": "stdout",
     "output_type": "stream",
     "text": [
      "Epoch [1/10], Loss: 0.2379\n",
      "Epoch [2/10], Loss: 0.1481\n",
      "Epoch [3/10], Loss: 0.1246\n",
      "Epoch [4/10], Loss: 0.1031\n",
      "Epoch [5/10], Loss: 0.0957\n",
      "Epoch [6/10], Loss: 0.0822\n",
      "Epoch [7/10], Loss: 0.0802\n",
      "Epoch [8/10], Loss: 0.0716\n",
      "Epoch [9/10], Loss: 0.0719\n",
      "Epoch [10/10], Loss: 0.0636\n"
     ]
    }
   ],
   "source": [
    "epochs = 10\n",
    "for epoch in range(epochs):\n",
    "    model.train()\n",
    "    total_loss = 0\n",
    "    for features, targets in train_loader:\n",
    "        optimizer.zero_grad()\n",
    "        outputs = model(features)\n",
    "        loss = criterion(outputs, targets)\n",
    "        loss.backward()\n",
    "        optimizer.step()\n",
    "        total_loss += loss.item()\n",
    "    \n",
    "    print(f\"Epoch [{epoch+1}/{epochs}], Loss: {total_loss/len(train_loader):.4f}\")"
   ]
  },
  {
   "cell_type": "code",
   "execution_count": 99,
   "metadata": {},
   "outputs": [],
   "source": [
    "torch.save(model.state_dict(), 'ft_transformer_model.pth')"
   ]
  },
  {
   "cell_type": "code",
   "execution_count": null,
   "metadata": {},
   "outputs": [
    {
     "name": "stdout",
     "output_type": "stream",
     "text": [
      "Validation Accuracy: 0.9774\n"
     ]
    }
   ],
   "source": [
    "model.eval()\n",
    "correct = 0\n",
    "total = 0\n",
    "with torch.no_grad():\n",
    "    for features, targets in val_loader:\n",
    "        outputs = model(features)\n",
    "        _, predicted = torch.max(outputs, 1)\n",
    "        correct += (predicted == targets).sum().item()\n",
    "        total += targets.size(0)\n",
    "\n",
    "accuracy = correct / total\n",
    "print(f\"Validation Accuracy: {accuracy:.4f}\")"
   ]
  }
 ],
 "metadata": {
  "kernelspec": {
   "display_name": "qshing",
   "language": "python",
   "name": "python3"
  },
  "language_info": {
   "codemirror_mode": {
    "name": "ipython",
    "version": 3
   },
   "file_extension": ".py",
   "mimetype": "text/x-python",
   "name": "python",
   "nbconvert_exporter": "python",
   "pygments_lexer": "ipython3",
   "version": "3.12.7"
  }
 },
 "nbformat": 4,
 "nbformat_minor": 2
}
